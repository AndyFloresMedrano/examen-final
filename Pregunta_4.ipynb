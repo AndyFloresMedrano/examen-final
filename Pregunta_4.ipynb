{
  "nbformat": 4,
  "nbformat_minor": 0,
  "metadata": {
    "colab": {
      "provenance": [],
      "authorship_tag": "ABX9TyPmIEtJod0plrP1QQdBpTip",
      "include_colab_link": true
    },
    "kernelspec": {
      "name": "python3",
      "display_name": "Python 3"
    },
    "language_info": {
      "name": "python"
    }
  },
  "cells": [
    {
      "cell_type": "markdown",
      "metadata": {
        "id": "view-in-github",
        "colab_type": "text"
      },
      "source": [
        "<a href=\"https://colab.research.google.com/github/AndyFloresMedrano/examen-final/blob/main/Pregunta_4.ipynb\" target=\"_parent\"><img src=\"https://colab.research.google.com/assets/colab-badge.svg\" alt=\"Open In Colab\"/></a>"
      ]
    },
    {
      "cell_type": "markdown",
      "source": [
        "A) errores lexicos"
      ],
      "metadata": {
        "id": "BP1UuJQUb_uE"
      }
    },
    {
      "cell_type": "code",
      "source": [
        "print(\"=== Ejemplo de Errores Léxicos ===\")\n",
        "\n",
        "def analizador_lexico(entrada):\n",
        "    if entrada[0].isdigit():\n",
        "        return \"Error léxico: Los identificadores no pueden comenzar con un número.\"\n",
        "    if \"@\" in entrada:\n",
        "        return \"Error léxico: Uso de un carácter no válido '@'.\"\n",
        "    if \"$\" in entrada:\n",
        "        return \"Error léxico: Uso de un carácter no válido '$'.\"\n",
        "    return \"Entrada válida.\"\n",
        "\n",
        "\n",
        "entradas = [\"123variable\", \"texto@\", \"numero$\", \"variableCorrecta\"]\n",
        "for entrada in entradas:\n",
        "    print(f\"Entrada: {entrada} -> {analizador_lexico(entrada)}\")\n"
      ],
      "metadata": {
        "colab": {
          "base_uri": "https://localhost:8080/"
        },
        "id": "ZUlGeuVecI2h",
        "outputId": "9ce6830b-b068-47d1-fd74-6e4f53aebd11"
      },
      "execution_count": null,
      "outputs": [
        {
          "output_type": "stream",
          "name": "stdout",
          "text": [
            "=== Ejemplo de Errores Léxicos ===\n",
            "Entrada: 123variable -> Error léxico: Los identificadores no pueden comenzar con un número.\n",
            "Entrada: texto@ -> Error léxico: Uso de un carácter no válido '@'.\n",
            "Entrada: numero$ -> Error léxico: Uso de un carácter no válido '$'.\n",
            "Entrada: variableCorrecta -> Entrada válida.\n"
          ]
        }
      ]
    },
    {
      "cell_type": "markdown",
      "source": [
        "B) Errores sintacticos"
      ],
      "metadata": {
        "id": "E96RrDAgdU2u"
      }
    },
    {
      "cell_type": "code",
      "source": [
        "print(\"=== Ejemplo de Errores Sintácticos ===\")\n",
        "\n",
        "def validar_sintaxis(entrada):\n",
        "    if \"(\" not in entrada or \")\" not in entrada:\n",
        "        return \"Error sintáctico: Paréntesis faltantes.\"\n",
        "    if \":\" not in entrada:\n",
        "        return \"Error sintáctico: Falta el ':' en la estructura.\"\n",
        "    if entrada.strip().startswith(\"def\") and not entrada.endswith(\":\"):\n",
        "        return \"Error sintáctico: Definición de función incompleta, falta ':'.\"\n",
        "    return \"Estructura válida.\"\n",
        "\n",
        "\n",
        "entradas = [\n",
        "    \"if (True\",\n",
        "    \"for i in range(5)\",\n",
        "    \"def funcion\",\n",
        "    \"if (True):\",\n",
        "    \"for i in range(5):\"\n",
        "]\n",
        "\n",
        "for entrada in entradas:\n",
        "    print(f\"Estructura: {entrada} -> {validar_sintaxis(entrada)}\")\n"
      ],
      "metadata": {
        "colab": {
          "base_uri": "https://localhost:8080/"
        },
        "id": "Gzt_OS5TdbRc",
        "outputId": "c1a6fbee-ac81-420c-f260-5ee607ad8a42"
      },
      "execution_count": null,
      "outputs": [
        {
          "output_type": "stream",
          "name": "stdout",
          "text": [
            "=== Ejemplo de Errores Sintácticos ===\n",
            "Estructura: if (True -> Error sintáctico: Paréntesis faltantes.\n",
            "Estructura: for i in range(5) -> Error sintáctico: Falta el ':' en la estructura.\n",
            "Estructura: def funcion -> Error sintáctico: Paréntesis faltantes.\n",
            "Estructura: if (True): -> Estructura válida.\n",
            "Estructura: for i in range(5): -> Estructura válida.\n"
          ]
        }
      ]
    },
    {
      "cell_type": "markdown",
      "source": [
        "C) Errores semanticos"
      ],
      "metadata": {
        "id": "sovAX9EQeBWB"
      }
    },
    {
      "cell_type": "code",
      "source": [
        "print(\"=== Ejemplo de Error Semántico ===\")\n",
        "\n",
        "try:\n",
        "    numerador = 10\n",
        "    denominador = 0\n",
        "    resultado = numerador / denominador\n",
        "    print(\"Resultado:\", resultado)\n",
        "except ZeroDivisionError:\n",
        "    print(\"Error semántico: División por cero.\")\n",
        "\n",
        "x = 10\n",
        "y = 5\n",
        "if x + y == 10:\n",
        "    print(\"Error semántico: Lógica incorrecta.\")\n",
        "\n",
        "numeros = [1, 2, 3]\n",
        "try:\n",
        "    valor = numeros[3]\n",
        "    print(\"Valor:\", valor)\n",
        "except IndexError:\n",
        "    print(\"Error semántico: Acceso fuera de rango.\")\n"
      ],
      "metadata": {
        "colab": {
          "base_uri": "https://localhost:8080/"
        },
        "id": "8vUTdzLveIi9",
        "outputId": "481006d1-e36f-4ca3-d336-3eee497cd7a8"
      },
      "execution_count": null,
      "outputs": [
        {
          "output_type": "stream",
          "name": "stdout",
          "text": [
            "=== Ejemplo de Error Semántico ===\n",
            "Error semántico: División por cero.\n",
            "Error semántico: Acceso fuera de rango.\n"
          ]
        }
      ]
    }
  ]
}